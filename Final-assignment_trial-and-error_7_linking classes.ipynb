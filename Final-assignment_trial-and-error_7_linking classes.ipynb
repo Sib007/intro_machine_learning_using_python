{
 "cells": [
  {
   "cell_type": "markdown",
   "id": "e8373e39",
   "metadata": {},
   "source": [
    "# Import modules"
   ]
  },
  {
   "cell_type": "code",
   "execution_count": 1,
   "id": "b44e6905",
   "metadata": {},
   "outputs": [],
   "source": [
    "import datetime #datetime package to convert strings into dates, calculate time periods etc.\n",
    "import re"
   ]
  },
  {
   "cell_type": "markdown",
   "id": "b73604ff",
   "metadata": {},
   "source": [
    "# Freelancers"
   ]
  },
  {
   "cell_type": "code",
   "execution_count": 12,
   "id": "f5545676",
   "metadata": {},
   "outputs": [],
   "source": [
    "class Freelancers:\n",
    "    is_internal = False\n",
    "    \n",
    "    def __init__(self, name, email, phone, id):\n",
    "        self.name = name\n",
    "        self.email = email\n",
    "        self.phone = phone\n",
    "        self.id = id\n",
    "        \n",
    "        self.task = set()\n",
    "        self.language = set()\n",
    "    \n",
    "    def add_task(self, task):\n",
    "        self.task.add(task)\n",
    "    \n",
    "    def add_language(self, language):\n",
    "        self.language.add(language)\n",
    "    \n",
    "    def __str__(self):\n",
    "        sent_1 = f\"{self.name} can be contacted via e-mail ({self.email}) or via phone ({self.phone}).\"\n",
    "        sent_2 = f\"{self.name}'s ID in our database is {self.id}.\"\n",
    "        sent_3 = f\"{self.name} works as a {', '.join(self.task)} for {', '.join(self.language)}.\"\n",
    "        return \"\\n\".join([sent_1, sent_2, sent_3])"
   ]
  },
  {
   "cell_type": "code",
   "execution_count": 2,
   "id": "559edff4",
   "metadata": {},
   "outputs": [],
   "source": [
    "sdw_info = {\n",
    "    'name' : 'Sibylle de Woot',\n",
    "    'email' : 'sdewoot@email.be',\n",
    "    'phone' : '+32 485 12 34 56',\n",
    "    'id' : 'sdw',\n",
    "    'task' : [\n",
    "        'translator',\n",
    "        'reviewer'\n",
    "    ],\n",
    "    'language' : [\n",
    "        'FR',\n",
    "        'NL',\n",
    "        'EN',\n",
    "        'DE'\n",
    "    ]\n",
    "}\n",
    "mm_info = {\n",
    "    'name' : 'Mariana Montes',\n",
    "    'email' : 'mariana.montes@company.com',\n",
    "    'phone' : '+32 487 98 76 54',\n",
    "    'id' : 'mm',\n",
    "    'task' : [\n",
    "        'reviewer'\n",
    "    ],\n",
    "    'language' : [\n",
    "        'ES',\n",
    "        'EN'\n",
    "    ]\n",
    "}\n",
    "evdl_info = {\n",
    "    'name' : 'Emily van der Londen',\n",
    "    'email' : 'evdl@translation.net',\n",
    "    'phone' : '+32 486 19 28 37',\n",
    "    'id' : 'evdl',\n",
    "    'task' : [\n",
    "        'translator'\n",
    "    ],\n",
    "    'language' : [\n",
    "        'NL',\n",
    "        'EN',\n",
    "        'FR'\n",
    "    ]\n",
    "}"
   ]
  },
  {
   "cell_type": "code",
   "execution_count": 15,
   "id": "a5d872cd",
   "metadata": {},
   "outputs": [],
   "source": [
    "freelancers = [sdw_info, mm_info, evdl_info]"
   ]
  },
  {
   "cell_type": "markdown",
   "id": "f8f569ba",
   "metadata": {},
   "source": [
    "## Class instances from dictionary"
   ]
  },
  {
   "cell_type": "code",
   "execution_count": 3,
   "id": "15edcaa7",
   "metadata": {},
   "outputs": [],
   "source": [
    "class Freelancer():\n",
    "    def __init__(self, dictionary):\n",
    "\n",
    "        for key, value in dictionary.items():\n",
    "            setattr(self, key, value)\n",
    "    \n",
    "    def __str__(self):\n",
    "        sent_1 = f\"{self.name} can be contacted via e-mail ({self.email}) or via phone ({self.phone}).\"\n",
    "        sent_2 = f\"{self.name}'s ID in our database is {self.id}.\"\n",
    "        sent_3 = f\"{self.name} works as a {', '.join(self.task)} for {', '.join(self.language)}.\"\n",
    "        return \"\\n\".join([sent_1, sent_2, sent_3])\n",
    "\n",
    "sdw = Freelancer(sdw_info)\n",
    "mm = Freelancer(mm_info)\n",
    "evdl = Freelancer(evdl_info)"
   ]
  },
  {
   "cell_type": "code",
   "execution_count": 20,
   "id": "ae186e5a",
   "metadata": {},
   "outputs": [
    {
     "data": {
      "text/plain": [
       "'Sibylle de Woot'"
      ]
     },
     "execution_count": 20,
     "metadata": {},
     "output_type": "execute_result"
    }
   ],
   "source": [
    "sdw.name"
   ]
  },
  {
   "cell_type": "code",
   "execution_count": 21,
   "id": "f22ef8fb",
   "metadata": {},
   "outputs": [
    {
     "data": {
      "text/plain": [
       "['translator', 'reviewer']"
      ]
     },
     "execution_count": 21,
     "metadata": {},
     "output_type": "execute_result"
    }
   ],
   "source": [
    "sdw.task"
   ]
  },
  {
   "cell_type": "code",
   "execution_count": 25,
   "id": "08aa579e",
   "metadata": {},
   "outputs": [
    {
     "name": "stdout",
     "output_type": "stream",
     "text": [
      "Sibylle de Woot can be contacted via e-mail (sdewoot@email.be) or via phone (+32 485 12 34 56).\n",
      "Sibylle de Woot's ID in our database is sdw.\n",
      "Sibylle de Woot works as a translator, reviewer for FR, NL, EN, DE.\n"
     ]
    }
   ],
   "source": [
    "print(sdw)"
   ]
  },
  {
   "cell_type": "markdown",
   "id": "1dccc238",
   "metadata": {},
   "source": [
    "# Projects"
   ]
  },
  {
   "cell_type": "code",
   "execution_count": 15,
   "id": "ffae2adb",
   "metadata": {},
   "outputs": [],
   "source": [
    "class Project:\n",
    "\n",
    "    def __init__(self, title, client, source, target, words, start, deadline, price, tm, translator = 'internal', reviewer = 'internal', status = 'created', domain = ''):\n",
    "        \"\"\"Initialises an object of the Project class, a class that represents a translation project of a translation agency.\n",
    "        \n",
    "            Args:\n",
    "                title (str): Title of the project (typically the title of the source document, or the overall title the agency gave the project if there's more than one document to be translated).\n",
    "                client (str): Client who ordered the translation.\n",
    "                source (str): Language of the source document(s) (document(s) to be translated).\n",
    "                target (str): Language of the target document(s) (translation(s)).\n",
    "                words (int): Word count of the source document(s).\n",
    "                start (str): Project's start date in ISO format (YYYY-MM-DD).\n",
    "                deadline (str): Project's deadline in ISO format (YYYY-MM-DD).\n",
    "                price (float): Total price invoiced to the client (excl. VAT).\n",
    "                tm (bool): Whether a translation memory is available for this project.\n",
    "                translator (string, optional): Translator assigned to the project. Defaults to 'internal'.\n",
    "                reviewer (string, optional): Reviewer assigned to the project. Defaults to 'internal'.\n",
    "                status (string, optional): Current project status inside the agency's workflow. Defaults to 'created'.\n",
    "                domain (str, optional): Overall domain to which the project belongs. Defaults to an empty string.\n",
    "        \n",
    "            Attributes:\n",
    "                title (str): Title of the project (typically the title of the source document, or the overall title the agency gave the project if there's more than one document to be translated).\n",
    "                client (str): Client who ordered the translation.\n",
    "                source (str): Language of the source document(s) (document(s) to be translated).\n",
    "                target (str): Language of the target document(s) (translation(s)).\n",
    "                words (int): Word count of the source document(s).\n",
    "                start (str): Project's start date in ISO format (YYYY-MM-DD).\n",
    "                deadline (str): Project's deadline in ISO format (YYYY-MM-DD).\n",
    "                price (float): Total price invoiced to the client (excl. VAT).\n",
    "                tm (bool): Whether a translation memory is available for this project.\n",
    "                translator (string, optional): Translator assigned to the project.\n",
    "                reviewer (string, optional): Reviewer assigned to the project.\n",
    "                status (string, optional): Current project status inside the agency's workflow.\n",
    "                domain (str): Overall domain to which the project belongs.\n",
    "                today (date): Date of the day where the script is run.\n",
    "                st (date): Project's start date, turned from an ISO-formatted string into a date.\n",
    "                dl (date): Project's deadline, turned from an ISO-formatted string into a date.\n",
    "                daysleft (timedelta): Time left until the project's deadline.\n",
    "                length (timedelta): Total time allocated to the project.\n",
    "                rate (float): Project's word rate.\n",
    "                efficiency (float): Number of words to be translated or revised per day to meet the deadline (assuming a five-day workweek).\n",
    "            \n",
    "            Raises:\n",
    "                TypeError: If 'title' is not a string.\n",
    "                TypeError: If 'client' is not a string.\n",
    "                TypeError: If 'source' is not a string.\n",
    "                TypeError: If 'target' is not a string.\n",
    "                TypeError: If 'words' is not an integer.\n",
    "                TypeError: If 'start' is not a string.\n",
    "                ValueError: If 'start' does not follow the pattern 4 digits-2 digits-2 digits.\n",
    "                TypeError: If 'deadline' is not a string.\n",
    "                ValueError: If 'deadline' does not follow the pattern 4 digits-2 digits-2 digits.\n",
    "                TypeError: If 'price' is not a float.\n",
    "                TypeError: If 'tm' is not a boolean.\n",
    "                TypeError: If 'status' is not a string.\n",
    "                ValueError: If 'status' is not a label in the agency workflow: created, in translation, in revision, delivered, delayed, cancel(l)ed.\n",
    "                TypeError: If 'domain' is not a string.\n",
    "        \"\"\"\n",
    "        if type(title) != str:\n",
    "            raise TypeError(\"The title must be a string.\")\n",
    "        else:\n",
    "            self.title = title\n",
    "        if type(client) != str:\n",
    "            raise TypeError(\"The client name must be a string.\")\n",
    "        else:\n",
    "            self.client = client\n",
    "        if type(source) != str:\n",
    "            raise TypeError(\"The source language must be a string.\")\n",
    "        else:\n",
    "            self.source = source\n",
    "        if type(target) != str:\n",
    "            raise TypeError(\"The target langague must be a string.\")\n",
    "        else:\n",
    "            self.target = target\n",
    "        if type(words) != int:\n",
    "            raise TypeError(\"The word count must be an integer.\")\n",
    "        else:\n",
    "            self.words = words\n",
    "        if type(start) != str:\n",
    "            raise TypeError(\"The start date must be provided as a string.\")\n",
    "        elif not re.match (\"[0-9]{4}-[0-9]{2}-[0-9]{2}\", start):\n",
    "            raise ValueError(\"A valid start date must be provided in ISO format.\")\n",
    "        else:\n",
    "            self.start = start\n",
    "        if type(deadline) != str:\n",
    "            raise TypeError(\"The deadline must be provided as a string.\")\n",
    "        elif not re.match (\"[0-9]{4}-[0-9]{2}-[0-9]{2}\", deadline):\n",
    "            raise ValueError(\"A valid deadline must be provided in ISO format.\")\n",
    "        else:\n",
    "            self.deadline = deadline\n",
    "        if type(price) != float:\n",
    "            raise TypeError(\"The price must be a float.\")\n",
    "        else:\n",
    "            self.price = price\n",
    "        if type(tm) != bool:\n",
    "            raise TypeError(\"The TM availability must be a boolean.\")\n",
    "        else:\n",
    "            self.tm = tm\n",
    "        if translator == '':\n",
    "            self.translator = \"internal\"\n",
    "        else:\n",
    "            self.translator = translator\n",
    "        if reviewer == '':\n",
    "            self.reviewer = \"internal\"\n",
    "        else:\n",
    "            self.reviewer = reviewer\n",
    "        if type(status) != str:\n",
    "            raise TypeError(\"The status must be a string.\")\n",
    "        elif status == '':\n",
    "            self.status = \"created\"\n",
    "        elif not status.lower() in [\"created\",\n",
    "                                     \"in translation\",\n",
    "                                     \"in revision\",\n",
    "                                     \"delivered\",\n",
    "                                     \"delayed\",\n",
    "                                     \"cancelled\",\n",
    "                                     \"canceled\"]:\n",
    "            raise ValueError(\"Please pick a status from the workflow: created, in translation, in revision, delivered, delayed or cancelled.\")\n",
    "        else:\n",
    "            self.status = status\n",
    "        if type(domain) != str:\n",
    "            raise TypeError(\"The domain must be a string.\")\n",
    "        else:\n",
    "            self.domain = domain\n",
    "                \n",
    "        today = datetime.date.today()\n",
    "        self.st = datetime.date.fromisoformat(start)\n",
    "        self.dl = datetime.date.fromisoformat(deadline)\n",
    "        self.daysleft = self.dl - today\n",
    "        self.length = self.dl - self.st\n",
    "        self.rate = self.price/self.words\n",
    "        self.efficiency = words/((5/7)*self.length.days)\n",
    "\n",
    "    def days_left(self):\n",
    "        \"\"\"Displays how many days remain until the project deadline.\n",
    "        \n",
    "        Args:\n",
    "            None\n",
    "            \n",
    "        Returns:\n",
    "            str: A message informing the user that the deadline has been exceeded already if the deadline is in the past.\n",
    "            str: A message informing the user of the number of days left until the deadline if the deadline is not in the past.\n",
    "        \"\"\"\n",
    "        # prints a text indicating how many days are left until the project deadline\n",
    "        if self.dl < datetime.date.today():\n",
    "            # if the deadline is in the past\n",
    "            return f\"The deadline has been exceeded already.\"\n",
    "        else:\n",
    "            # if the deadline is not in the past\n",
    "            return f\"There are {self.daysleft.days} days left until the deadline.\"\n",
    "    \n",
    "    def project_length(self):\n",
    "        \"\"\"Displays the total number of days allocated to the project.\n",
    "        \n",
    "        Args:\n",
    "            None\n",
    "        \n",
    "        Returns:\n",
    "            str: The total number of days allocated to the project.\n",
    "        \"\"\"\n",
    "        return f\"{self.length.days} days\"\n",
    "    \n",
    "    def __str__(self):\n",
    "        # defines the print behaviour: returns a text providing the main information about the project\n",
    "        sent_1 = f\"{self.title} is a translation for {self.client} from {self.source} into {self.target}.\"\n",
    "        if self.translator == \"internal\" and self.reviewer == \"internal\":\n",
    "            sent_2 = f\"Both the translator and the reviewer are agency collaborators.\"\n",
    "        elif self.translator == \"internal\" and self.reviewer != \"internal\":\n",
    "            sent_2 = f\"The translator is an agency collaborator and the reviewer is {self.reviewer.name}.\"\n",
    "        elif self.translator != \"internal\" and self.reviewer == \"internal\":\n",
    "            sent_2 = f\"The translator is {self.translator.name} and the reviewer is an agency collaborator.\"\n",
    "        else:\n",
    "            sent_2 = f\"The translator is {self.translator.name} and the reviewer is {self.reviewer.name}.\"\n",
    "        # this if-statement considers whether a domain was added\n",
    "        if len(self.domain) > 0:\n",
    "            sent_3 = f\"The domain is: {self.domain}.\"\n",
    "        else:\n",
    "            sent_3 = \"The domain is unspecified.\" # if no domain was added, the text mentions it\n",
    "        sent_4 = f\"It's {self.words} words long, with a rate of {round(self.rate, 2)} € per word.\" #the word rate is rounded to two decimal places to avoid cumbersomely long numbers\n",
    "        # this if-statement considers whether the deadline is in the past\n",
    "        if self.dl < datetime.date.today():\n",
    "            sent_5 = f\"It started on {self.st} and was due on {self.dl}, so {self.length.days} days were foreseen for it. To meet the deadline, {round(self.efficiency)} words needed to be translated or revised per day.\" # the efficiency is rounded to units because you can't translate a fraction of a word anyway\n",
    "        else:\n",
    "            sent_5 = f\"It started on {self.st} and is due on {self.dl}, so {self.length.days} days are foreseen for it, of which {self.daysleft.days} left. To meet the deadline, {round(self.efficiency)} words need to be translated or revised per day.\"\n",
    "        # this if-statement considers whether there is a translation memory for the project\n",
    "        sent_6 = f\"There is {'a' if self.tm else 'no'} translation memory.\"\n",
    "        sent_7 = f\"The project is currently {self.status}.\"\n",
    "        # print each sentence in a different line\n",
    "        return \"\\n\".join([sent_1, sent_2, sent_3, sent_4, sent_5, sent_6, sent_7])"
   ]
  },
  {
   "cell_type": "code",
   "execution_count": 5,
   "id": "af6d3dd5",
   "metadata": {},
   "outputs": [],
   "source": [
    "rhumatismes_inflammatoires = {\n",
    "    'title' : 'La polyarthrite rhumatoïde et autres rhumatismes inflammatoires',\n",
    "    'client' : 'Reuma vzw',\n",
    "    'source' : 'FR',\n",
    "    'target' : 'NL',\n",
    "    'words' : 2131,\n",
    "    'start' : '2020-09-24',\n",
    "    'deadline' : '2020-10-15',\n",
    "    'price' : 210.00,\n",
    "    'tm' : False,\n",
    "    'translator' : '',\n",
    "    'reviewer' : '',\n",
    "    'status' : '',\n",
    "    'domain' : 'healthcare'\n",
    "}\n",
    "handboek = {\n",
    "    'title' : 'Handboek voor studentenvertegenwoordigers',\n",
    "    'client' : 'KU Leuven',\n",
    "    'source' : 'NL',\n",
    "    'target' : 'EN',\n",
    "    'words' : 3654,\n",
    "    'start' : '2023-02-21',\n",
    "    'deadline' : '2023-03-02',\n",
    "    'price' : 540.00,\n",
    "    'tm' : True,\n",
    "    'translator' : sdw,\n",
    "    'reviewer' : '',\n",
    "    'status' : 'delayed',    \n",
    "    'domain' : 'education'\n",
    "}\n",
    "user_guide = {\n",
    "    'title' : 'User Guide MFPs',\n",
    "    'client' : 'UGent',\n",
    "    'source' : 'EN',\n",
    "    'target' : 'NL',\n",
    "    'words' : 1852,\n",
    "    'start' : '2023-04-12',\n",
    "    'deadline' : '2023-04-14',\n",
    "    'price' : 280.00,\n",
    "    'tm' : True,\n",
    "    'translator' : '',\n",
    "    'reviewer' : mm,\n",
    "    'status' : 'cancelled',\n",
    "    'domain' : ''\n",
    "}\n",
    "guide_bruxelles = {\n",
    "    'title' : 'Guide de Bruxelles',\n",
    "    'client' : 'Foodies',\n",
    "    'source' : 'NL',\n",
    "    'target' : 'FR',\n",
    "    'words' : 11500,\n",
    "    'start' : '2023-04-06',\n",
    "    'deadline' : '2023-05-27',\n",
    "    'price' : 1610.00,\n",
    "    'tm' : False,\n",
    "    'translator' : evdl,\n",
    "    'reviewer' : sdw,\n",
    "    'status' : 'in revision',    \n",
    "    'domain' : ''\n",
    "}"
   ]
  },
  {
   "cell_type": "code",
   "execution_count": 6,
   "id": "9c855697",
   "metadata": {},
   "outputs": [],
   "source": [
    "translation_projects = [rhumatismes_inflammatoires, handboek, user_guide, guide_bruxelles]"
   ]
  },
  {
   "cell_type": "code",
   "execution_count": 16,
   "id": "23542b23",
   "metadata": {},
   "outputs": [
    {
     "name": "stdout",
     "output_type": "stream",
     "text": [
      "La polyarthrite rhumatoïde et autres rhumatismes inflammatoires is a translation for Reuma vzw from FR into NL.\n",
      "Both the translator and the reviewer are agency collaborators.\n",
      "The domain is: healthcare.\n",
      "It's 2131 words long, with a rate of 0.1 € per word.\n",
      "It started on 2020-09-24 and was due on 2020-10-15, so 21 days were foreseen for it. To meet the deadline, 142 words needed to be translated or revised per day.\n",
      "There is no translation memory.\n",
      "The project is currently created.\n",
      "----\n",
      "Handboek voor studentenvertegenwoordigers is a translation for KU Leuven from NL into EN.\n",
      "The translator is Sibylle de Woot and the reviewer is an agency collaborator.\n",
      "The domain is: education.\n",
      "It's 3654 words long, with a rate of 0.15 € per word.\n",
      "It started on 2023-02-21 and was due on 2023-03-02, so 9 days were foreseen for it. To meet the deadline, 568 words needed to be translated or revised per day.\n",
      "There is a translation memory.\n",
      "The project is currently delayed.\n",
      "----\n",
      "User Guide MFPs is a translation for UGent from EN into NL.\n",
      "The translator is an agency collaborator and the reviewer is Mariana Montes.\n",
      "The domain is unspecified.\n",
      "It's 1852 words long, with a rate of 0.15 € per word.\n",
      "It started on 2023-04-12 and was due on 2023-04-14, so 2 days were foreseen for it. To meet the deadline, 1296 words needed to be translated or revised per day.\n",
      "There is a translation memory.\n",
      "The project is currently cancelled.\n",
      "----\n",
      "Guide de Bruxelles is a translation for Foodies from NL into FR.\n",
      "The translator is Emily van der Londen and the reviewer is Sibylle de Woot.\n",
      "The domain is unspecified.\n",
      "It's 11500 words long, with a rate of 0.14 € per word.\n",
      "It started on 2023-04-06 and was due on 2023-05-27, so 51 days were foreseen for it. To meet the deadline, 316 words needed to be translated or revised per day.\n",
      "There is no translation memory.\n",
      "The project is currently in revision.\n",
      "----\n"
     ]
    }
   ],
   "source": [
    "for project in translation_projects:\n",
    "    my_project = Project(project['title'], project['client'], project['source'], project['target'], project['words'], project['start'], project['deadline'], project['price'], project['tm'], project['translator'], project['reviewer'], project['status'], project['domain'])\n",
    "    print(my_project)\n",
    "    print('----')"
   ]
  },
  {
   "cell_type": "code",
   "execution_count": 21,
   "id": "29975a1e",
   "metadata": {},
   "outputs": [
    {
     "data": {
      "text/plain": [
       "1610.0"
      ]
     },
     "execution_count": 21,
     "metadata": {},
     "output_type": "execute_result"
    }
   ],
   "source": [
    "my_project.price"
   ]
  },
  {
   "cell_type": "code",
   "execution_count": 22,
   "id": "99078130",
   "metadata": {},
   "outputs": [
    {
     "data": {
      "text/plain": [
       "<__main__.Freelancer at 0x7fe637178a00>"
      ]
     },
     "execution_count": 22,
     "metadata": {},
     "output_type": "execute_result"
    }
   ],
   "source": [
    "my_project.reviewer"
   ]
  },
  {
   "cell_type": "code",
   "execution_count": 23,
   "id": "35e7b92c",
   "metadata": {},
   "outputs": [
    {
     "data": {
      "text/plain": [
       "'Sibylle de Woot'"
      ]
     },
     "execution_count": 23,
     "metadata": {},
     "output_type": "execute_result"
    }
   ],
   "source": [
    "my_project.reviewer.name"
   ]
  },
  {
   "cell_type": "code",
   "execution_count": 25,
   "id": "0332a787",
   "metadata": {},
   "outputs": [
    {
     "data": {
      "text/plain": [
       "'sdewoot@email.be'"
      ]
     },
     "execution_count": 25,
     "metadata": {},
     "output_type": "execute_result"
    }
   ],
   "source": [
    "my_project.reviewer.email"
   ]
  },
  {
   "cell_type": "code",
   "execution_count": null,
   "id": "1f569b3f",
   "metadata": {},
   "outputs": [],
   "source": []
  }
 ],
 "metadata": {
  "kernelspec": {
   "display_name": "Python 3 (ipykernel)",
   "language": "python",
   "name": "python3"
  },
  "language_info": {
   "codemirror_mode": {
    "name": "ipython",
    "version": 3
   },
   "file_extension": ".py",
   "mimetype": "text/x-python",
   "name": "python",
   "nbconvert_exporter": "python",
   "pygments_lexer": "ipython3",
   "version": "3.9.16"
  }
 },
 "nbformat": 4,
 "nbformat_minor": 5
}
