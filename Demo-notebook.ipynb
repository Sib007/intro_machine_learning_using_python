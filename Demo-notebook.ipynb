{
 "cells": [
  {
   "cell_type": "markdown",
   "id": "b9f1fa80",
   "metadata": {},
   "source": [
    "# Translation project manager for translation agency"
   ]
  },
  {
   "cell_type": "markdown",
   "id": "f0b84575",
   "metadata": {},
   "source": [
    "## Starting point: Translation project manager for freelancer\n",
    "\n",
    "This script consisted of a single class `Translation` with the following attributes:\n",
    "- A class attribute `translator`, which defaults to the freelancer's name.\n",
    "- 10 attributes provided at initialisation:\n",
    "    - `title`(a string) indicates the project's title (typically the title of the source document, or the overall title the translator gave the project if there's more than one document to be translated);\n",
    "    - `client` (a string) indicates the client who ordered the translation;\n",
    "    - `source` (a string) indicates the language of the source document (document to be translated);\n",
    "    - `target` (a string) indicates the language of the target document (translation);\n",
    "    - `words` (an integer) indicates the word count of the source document;\n",
    "    - `start`(a string) indicates the project's start date in ISO format (YYYY-MM-DD);\n",
    "    - `deadline`(a string) indicates the project's deadline in ISO format (YYYY-MM-DD);\n",
    "    - `price` (an integer) indicates the total price invoiced to the client (excl. VAT);\n",
    "    - `tm` (a boolean) indicates whether or not a translation memory is available for this project;\n",
    "    - `domain` (a string) indicates the overall domain to which the project belongs.\n",
    "- 4 computed attributes:\n",
    "    - `daysleft`, which calculates the number of days left until the project deadline by subtracting the current date from the deadline;\n",
    "    - `length`, which calculates the total number of days allotted for the project by subtracting the start date from the deadline;\n",
    "    - `rate`, which calculates the word rate for the project by dividing the total price by the word count in the source document;\n",
    "    - `efficiency`, which calculates how many words the translator needs to translate per day to meet the deadline."
   ]
  },
  {
   "cell_type": "code",
   "execution_count": 1,
   "id": "b11c57bc",
   "metadata": {},
   "outputs": [],
   "source": [
    "import datetime #datetime package to convert strings into dates, calculate time periods etc."
   ]
  },
  {
   "cell_type": "code",
   "execution_count": 2,
   "id": "1f6d67d3",
   "metadata": {},
   "outputs": [],
   "source": [
    "class Translation:\n",
    "    translator = \"Sibylle\" # class attribute\n",
    "\n",
    "    def __init__(self, title, client, source, target, words, start, deadline, price, tm, domain = ''):\n",
    "        # 'self' represents the object (= class element) itself\n",
    "        self.title = title\n",
    "        self.client = client\n",
    "        self.source = source\n",
    "        self.target = target\n",
    "        self.words = words\n",
    "        self.start = datetime.date.fromisoformat(start) # turns string into date\n",
    "        self.deadline = datetime.date.fromisoformat(deadline) # turns string into date\n",
    "        self.price = price\n",
    "        self.tm = tm\n",
    "        self.domain = domain\n",
    "                \n",
    "        today = datetime.date.today() # current date\n",
    "        self.daysleft = self.deadline - today # difference between deadline and current date\n",
    "        self.length = self.deadline - self.start # difference between deadline and start date\n",
    "        self.rate = self.price/self.words # word rate (price divided by word count)\n",
    "        self.efficiency = words/self.length.days # words to translate per day (word count divided by project length, see 'length' in explanations above)\n",
    "\n",
    "    def days_left(self):\n",
    "        # prints a text indicating how many days are left until the project deadline\n",
    "        if self.deadline < datetime.date.today():\n",
    "            # if the deadline is in the past\n",
    "            return f\"The deadline has been exceeded already.\"\n",
    "        else:\n",
    "            # if the deadline is not in the past\n",
    "            return f\"There are {self.daysleft.days} days left until the deadline.\"\n",
    "    \n",
    "    def __str__(self):\n",
    "        # defines the print behaviour: returns a text providing the main information about the project\n",
    "        sent_1 = f\"{self.title} is a translation for {self.client} from {self.source} into {self.target}.\"\n",
    "        # this if-statement considers whether a domain was added\n",
    "        if len(self.domain) > 0:\n",
    "            sent_2 = f\"The domain is: {self.domain}.\"\n",
    "        else:\n",
    "            sent_2 = \"The domain is unspecified.\" # if no domain was added, the text mentions it\n",
    "        sent_3 = f\"It's {self.words} words long, with a rate of {round(self.rate, 2)} € per word.\" #the word rate is rounded to two decimal places to avoid cumbersomely long numbers\n",
    "        # this if-statement considers whether the deadline is in the past\n",
    "        if self.deadline < datetime.date.today():\n",
    "            sent_4 = f\"It started on {self.start} and was due on {self.deadline}, so I had {self.length.days} days for it. I needed to translate {round(self.efficiency,0)} words per day to meet the deadline.\" # the efficiency is rounded to units because you can't translate a fraction of a word anyway\n",
    "        else:\n",
    "            sent_4 = f\"It started on {self.start} and is due on {self.deadline}, so I have {self.length.days} days for it, of which {self.daysleft.days} left. I need to translate {round(self.efficiency,0)} words per day to meet the deadline.\"\n",
    "        # this if-statement considers whether there is a translation memory for the project\n",
    "        if self.tm is True:\n",
    "            sent_5 = f\"There is a translation memory.\"\n",
    "        else:\n",
    "            sent_5 = f\"There is no translation memory\"\n",
    "        # print each sentence in a different line\n",
    "        return \"\\n\".join([sent_1, sent_2, sent_3, sent_4, sent_5])"
   ]
  },
  {
   "cell_type": "code",
   "execution_count": 3,
   "id": "e92b9a05",
   "metadata": {},
   "outputs": [],
   "source": [
    "test1 = Translation('Guide de Bruxelles', 'Foodies', 'NL', 'FR', 11500, '2023-03-22', '2023-05-06', 1610, False)"
   ]
  },
  {
   "cell_type": "code",
   "execution_count": 4,
   "id": "ac4d553d",
   "metadata": {},
   "outputs": [
    {
     "name": "stdout",
     "output_type": "stream",
     "text": [
      "Guide de Bruxelles is a translation for Foodies from NL into FR.\n",
      "The domain is unspecified.\n",
      "It's 11500 words long, with a rate of 0.14 € per word.\n",
      "It started on 2023-03-22 and was due on 2023-05-06, so I had 45 days for it. I needed to translate 256.0 words per day to meet the deadline.\n",
      "There is no translation memory\n"
     ]
    }
   ],
   "source": [
    "print(test1)"
   ]
  },
  {
   "cell_type": "code",
   "execution_count": 5,
   "id": "c4ec3c60",
   "metadata": {},
   "outputs": [],
   "source": [
    "import json"
   ]
  },
  {
   "cell_type": "code",
   "execution_count": 6,
   "id": "9517724c",
   "metadata": {},
   "outputs": [],
   "source": [
    "translations_file = 'translation_projects.json' # assign filename to a string variable\n",
    "with open(translations_file, encoding = 'utf-8') as f:\n",
    "    # open file and use json to parse it\n",
    "    translations = json.load(f) # translations is now a list of dictionaries.    "
   ]
  },
  {
   "cell_type": "code",
   "execution_count": 7,
   "id": "d52e308a",
   "metadata": {},
   "outputs": [
    {
     "name": "stdout",
     "output_type": "stream",
     "text": [
      "La polyarthrite rhumatoïde et autres rhumatismes inflammatoires is a translation for Reuma vzw from FR into NL.\n",
      "The domain is: healthcare.\n",
      "It's 2131 words long, with a rate of 0.1 € per word.\n",
      "It started on 2020-09-24 and was due on 2020-10-15, so I had 21 days for it. I needed to translate 101.0 words per day to meet the deadline.\n",
      "There is no translation memory\n",
      "----\n",
      "Handboek voor studentenvertegenwoordigers is a translation for KU Leuven from NL into EN.\n",
      "The domain is: education.\n",
      "It's 3654 words long, with a rate of 0.15 € per word.\n",
      "It started on 2023-02-21 and was due on 2023-03-02, so I had 9 days for it. I needed to translate 406.0 words per day to meet the deadline.\n",
      "There is a translation memory.\n",
      "----\n",
      "User Guide MFPs is a translation for UGent from EN into NL.\n",
      "The domain is unspecified.\n",
      "It's 1852 words long, with a rate of 0.15 € per word.\n",
      "It started on 2023-04-14 and was due on 2023-04-16, so I had 2 days for it. I needed to translate 926.0 words per day to meet the deadline.\n",
      "There is a translation memory.\n",
      "----\n",
      "Guide de Bruxelles is a translation for Foodies from NL into FR.\n",
      "The domain is unspecified.\n",
      "It's 11500 words long, with a rate of 0.14 € per word.\n",
      "It started on 2023-03-22 and was due on 2023-05-06, so I had 45 days for it. I needed to translate 256.0 words per day to meet the deadline.\n",
      "There is no translation memory\n",
      "----\n"
     ]
    }
   ],
   "source": [
    "# go through each of the items in the list\n",
    "for translation in translations:\n",
    "    # create a Translation instance with title, client, source, target, words, start, deadline, price, tm and domain\n",
    "    my_translation = Translation(translation['title'], translation['client'], translation['source'], translation['target'], translation['words'], translation['start'], translation['deadline'], translation['price'], translation['tm'], translation['domain'])\n",
    "        \n",
    "    # print the project information\n",
    "    print(my_translation)\n",
    "    \n",
    "    # print a separating line between translations\n",
    "    print('----')"
   ]
  },
  {
   "cell_type": "markdown",
   "id": "4fbcdaa6",
   "metadata": {},
   "source": [
    "## Expanding and improving the script for a translation agency\n",
    "- Actually putting the translator's identity in the printed project information (since the database now contains projects handled by various translators).\n",
    "- Adding a `revisor` and `status` attribute.\n",
    "- No longer applying the conversion to ISO format of start date and deadline at the instance attribute level, but creating extra computed attributes `self.st` and `self.dl` used only in calculations (makes calling the `start` and `deadline` attributes more user-friendly)."
   ]
  },
  {
   "cell_type": "code",
   "execution_count": 8,
   "id": "728a7f92",
   "metadata": {},
   "outputs": [],
   "source": [
    "class Translation_agency:\n",
    "    translator = \"Internal\" # class attribute\n",
    "    revisor = \"Internal\"\n",
    "    status = \"created\"\n",
    "\n",
    "    def __init__(self, title, client, source, target, words, start, deadline, price, tm, domain = ''):\n",
    "        # 'self' represents the object (= class element) itself\n",
    "        self.title = title\n",
    "        self.client = client\n",
    "        self.source = source\n",
    "        self.target = target\n",
    "        self.words = words\n",
    "        self.start = start\n",
    "        self.deadline = deadline\n",
    "        self.price = price\n",
    "        self.tm = tm\n",
    "        self.domain = domain\n",
    "                \n",
    "        today = datetime.date.today() # current date\n",
    "        self.st = datetime.date.fromisoformat(start) # turns string into date\n",
    "        self.dl = datetime.date.fromisoformat(deadline) # turns string into date\n",
    "        self.daysleft = self.dl - today # difference between deadline and current date\n",
    "        self.length = self.dl - self.st # difference between deadline and start date\n",
    "        self.rate = self.price/self.words # word rate (price divided by word count)\n",
    "        self.efficiency = words/self.length.days # words to translate per day (word count divided by project length, see 'length' in explanations above)\n",
    "\n",
    "    def days_left(self):\n",
    "        # prints a text indicating how many days are left until the project deadline\n",
    "        if self.dl < datetime.date.today():\n",
    "            # if the deadline is in the past\n",
    "            return f\"The deadline has been exceeded already.\"\n",
    "        else:\n",
    "            # if the deadline is not in the past\n",
    "            return f\"There are {self.daysleft.days} days left until the deadline.\"\n",
    "    \n",
    "    def project_length(self):\n",
    "        return f\"{self.length.days} days\"\n",
    "    \n",
    "    def __str__(self):\n",
    "        # defines the print behaviour: returns a text providing the main information about the project\n",
    "        sent_1 = f\"{self.title} is a translation for {self.client} from {self.source} into {self.target}.\"\n",
    "        if self.translator == \"Internal\" and self.revisor == \"Internal\":\n",
    "            sent_2 = f\"Both the translator and the revisor are agency collaborators.\"\n",
    "        elif self.translator == \"Internal\" and self.revisor != \"Internal\":\n",
    "            sent_2 = f\"The translator is an agency collaborator and the revisor is {self.revisor}.\"\n",
    "        elif self.translator != \"Internal\" and self.revisor == \"Internal\":\n",
    "            sent_2 = f\"The translator is {self.translator} and the revisor is an agency collaborator.\"\n",
    "        else:\n",
    "            sent_2 = f\"The translator is {self.translator} and the revisor is {self.revisor}.\"\n",
    "        # this if-statement considers whether a domain was added\n",
    "        if len(self.domain) > 0:\n",
    "            sent_3 = f\"The domain is: {self.domain}.\"\n",
    "        else:\n",
    "            sent_3 = \"The domain is unspecified.\" # if no domain was added, the text mentions it\n",
    "        sent_4 = f\"It's {self.words} words long, with a rate of {round(self.rate, 2)} € per word.\" #the word rate is rounded to two decimal places to avoid cumbersomely long numbers\n",
    "        # this if-statement considers whether the deadline is in the past\n",
    "        if self.dl < datetime.date.today():\n",
    "            sent_5 = f\"It started on {self.st} and was due on {self.dl}, so {self.length.days} days were foreseen for it. To meet the deadline, {round(self.efficiency)} words needed to be translated or revised per day.\" # the efficiency is rounded to units because you can't translate a fraction of a word anyway\n",
    "        else:\n",
    "            sent_5 = f\"It started on {self.st} and is due on {self.dl}, so {self.length.days} days are foreseen for it, of which {self.daysleft.days} left. To meet the deadline, {round(self.efficiency)} words need to be translated or revised per day.\"\n",
    "        # this if-statement considers whether there is a translation memory for the project\n",
    "        sent_6 = f\"There is {'a' if self.tm else 'no'} translation memory.\"\n",
    "        sent_7 = f\"The project is currently {self.status}.\"\n",
    "        # print each sentence in a different line\n",
    "        return \"\\n\".join([sent_1, sent_2, sent_3, sent_4, sent_5, sent_6, sent_7])"
   ]
  },
  {
   "cell_type": "code",
   "execution_count": 9,
   "id": "37cd848e",
   "metadata": {},
   "outputs": [],
   "source": [
    "rhumatismes_inflammatoires = {\n",
    "    'translator' : 'Internal',\n",
    "    'revisor' : 'Internal',\n",
    "    'status' : 'delivered',\n",
    "    'title' : 'La polyarthrite rhumatoïde et autres rhumatismes inflammatoires',\n",
    "    'client' : 'Reuma vzw',\n",
    "    'source' : 'FR',\n",
    "    'target' : 'NL',\n",
    "    'words' : 2131,\n",
    "    'start' : '2020-09-24',\n",
    "    'deadline' : '2020-10-15',\n",
    "    'price' : 210,\n",
    "    'tm' : False,\n",
    "    'domain' : 'healthcare'\n",
    "}\n",
    "handboek = {\n",
    "    'translator' : 'Sibylle',\n",
    "    'revisor' : 'Internal',\n",
    "    'status' : 'delayed',\n",
    "    'title' : 'Handboek voor studentenvertegenwoordigers',\n",
    "    'client' : 'KU Leuven',\n",
    "    'source' : 'NL',\n",
    "    'target' : 'EN',\n",
    "    'words' : 3654,\n",
    "    'start' : '2023-02-21',\n",
    "    'deadline' : '2023-03-02',\n",
    "    'price' : 540,\n",
    "    'tm' : True,\n",
    "    'domain' : 'education'\n",
    "}\n",
    "user_guide = {\n",
    "    'translator' : 'Internal',\n",
    "    'revisor' : 'Sibylle',\n",
    "    'status' : 'cancelled',\n",
    "    'title' : 'User Guide MFPs',\n",
    "    'client' : 'UGent',\n",
    "    'source' : 'EN',\n",
    "    'target' : 'NL',\n",
    "    'words' : 1852,\n",
    "    'start' : '2023-04-12',\n",
    "    'deadline' : '2023-04-14',\n",
    "    'price' : 280,\n",
    "    'tm' : True,\n",
    "    'domain' : ''\n",
    "}\n",
    "guide_bruxelles = {\n",
    "    'translator' : 'Sibylle',\n",
    "    'revisor' : 'Natacha',\n",
    "    'status' : 'in revision',\n",
    "    'title' : 'Guide de Bruxelles',\n",
    "    'client' : 'Foodies',\n",
    "    'source' : 'NL',\n",
    "    'target' : 'FR',\n",
    "    'words' : 11500,\n",
    "    'start' : '2023-04-06',\n",
    "    'deadline' : '2023-05-27',\n",
    "    'price' : 1610,\n",
    "    'tm' : False,\n",
    "    'domain' : ''\n",
    "}"
   ]
  },
  {
   "cell_type": "code",
   "execution_count": 10,
   "id": "83aaa188",
   "metadata": {},
   "outputs": [],
   "source": [
    "translation_projects = [rhumatismes_inflammatoires, handboek, user_guide, guide_bruxelles]"
   ]
  },
  {
   "cell_type": "code",
   "execution_count": 11,
   "id": "d17cc1a8",
   "metadata": {},
   "outputs": [],
   "source": [
    "with open('translation_agency_projects.json', 'w', encoding='utf-8') as f:\n",
    "    json.dump(translation_projects, f)"
   ]
  },
  {
   "cell_type": "code",
   "execution_count": 12,
   "id": "3e65cbb7",
   "metadata": {},
   "outputs": [],
   "source": [
    "translation_agency_file = 'translation_agency_projects.json' # assign filename to a string variable\n",
    "with open(translation_agency_file, encoding = 'utf-8') as f:\n",
    "    # open file and use json to parse it\n",
    "    translations_agency = json.load(f) # translations is now a list of dictionaries.   "
   ]
  },
  {
   "cell_type": "code",
   "execution_count": 13,
   "id": "eb0cc334",
   "metadata": {},
   "outputs": [
    {
     "name": "stdout",
     "output_type": "stream",
     "text": [
      "La polyarthrite rhumatoïde et autres rhumatismes inflammatoires is a translation for Reuma vzw from FR into NL.\n",
      "Both the translator and the revisor are agency collaborators.\n",
      "The domain is: healthcare.\n",
      "It's 2131 words long, with a rate of 0.1 € per word.\n",
      "It started on 2020-09-24 and was due on 2020-10-15, so 21 days were foreseen for it. To meet the deadline, 101 words needed to be translated or revised per day.\n",
      "There is no translation memory.\n",
      "The project is currently delivered.\n",
      "----\n",
      "Handboek voor studentenvertegenwoordigers is a translation for KU Leuven from NL into EN.\n",
      "The translator is Sibylle and the revisor is an agency collaborator.\n",
      "The domain is: education.\n",
      "It's 3654 words long, with a rate of 0.15 € per word.\n",
      "It started on 2023-02-21 and was due on 2023-03-02, so 9 days were foreseen for it. To meet the deadline, 406 words needed to be translated or revised per day.\n",
      "There is a translation memory.\n",
      "The project is currently delayed.\n",
      "----\n",
      "User Guide MFPs is a translation for UGent from EN into NL.\n",
      "The translator is an agency collaborator and the revisor is Sibylle.\n",
      "The domain is unspecified.\n",
      "It's 1852 words long, with a rate of 0.15 € per word.\n",
      "It started on 2023-04-12 and was due on 2023-04-14, so 2 days were foreseen for it. To meet the deadline, 926 words needed to be translated or revised per day.\n",
      "There is a translation memory.\n",
      "The project is currently cancelled.\n",
      "----\n",
      "Guide de Bruxelles is a translation for Foodies from NL into FR.\n",
      "The translator is Sibylle and the revisor is Natacha.\n",
      "The domain is unspecified.\n",
      "It's 11500 words long, with a rate of 0.14 € per word.\n",
      "It started on 2023-04-06 and is due on 2023-05-27, so 51 days are foreseen for it, of which 5 left. To meet the deadline, 225 words need to be translated or revised per day.\n",
      "There is no translation memory.\n",
      "The project is currently in revision.\n",
      "----\n"
     ]
    }
   ],
   "source": [
    "# go through each of the items in the list\n",
    "for translation in translations_agency:\n",
    "    # create a Translation instance with title, client, source, target, words, start, deadline, price, tm and domain\n",
    "    my_translation2 = Translation_agency(translation['title'], translation['client'], translation['source'], translation['target'], translation['words'], translation['start'], translation['deadline'], translation['price'], translation['tm'], translation['domain'])\n",
    "    if translation['translator'] != \"Internal\":\n",
    "        my_translation2.translator = translation['translator']\n",
    "    if translation['revisor'] != \"Internal\":\n",
    "        my_translation2.revisor = translation['revisor']\n",
    "    if translation['status'] != \"created\":\n",
    "        my_translation2.status = translation['status'] \n",
    "    # print the project information\n",
    "    print(my_translation2)\n",
    "    \n",
    "    # print a separating line between translations\n",
    "    print('----')"
   ]
  },
  {
   "cell_type": "markdown",
   "id": "bb384876",
   "metadata": {},
   "source": [
    "## Left to do\n",
    "- Add validation when updating the status: only allow 'created', 'in translation', 'in revision', 'delivered', 'delayed' and 'cancel(l)ed'.\n",
    "- Add validation for all the other attributes (not accept 'internal' for translator and revisor, only 'Internal').\n",
    "- Create a second class `Freelancers` fed by a json-file containing a freelancer database and use references to the database rather than strings (names) for the name of external translators and revisors (__how ?__).\n",
    "    - Last name\n",
    "    - First name\n",
    "    - Phone number\n",
    "    - E-mail address\n",
    "    - Project count\n",
    "- Use regex to check e-mail address and phone number in the freelancer database.\n",
    "- Implement argparse.\n",
    "- Document the script with docstrings."
   ]
  },
  {
   "cell_type": "markdown",
   "id": "531f42ed",
   "metadata": {},
   "source": [
    "# Extra: Source and target text aligner\n",
    "Sometimes, you still have some translations left over from a time where you didn't use CAT-tools and you'd like to feed them into your translation memory. Some CAT-tools have built-in text aligners, but not all of them, so how do you go from two separate text documents to an aligned bilingual (csv-)file ready to be fed into your TM?\n",
    "\n",
    "## Step one: Prepare the source and target text\n",
    "The easiest file format to start from is a pure txt-file... and since for a TM only the pure text is of interest, converting a Word-, PowerPoint- or whatever file to a txt-file isn't an issue. So, we'll take the original source and target document and export them to a txt-format (with utf-8 encoding).\n",
    "\n",
    "## Step two: Store the two (continuous) texts into variables"
   ]
  },
  {
   "cell_type": "code",
   "execution_count": 14,
   "id": "4150607b",
   "metadata": {},
   "outputs": [
    {
     "data": {
      "text/plain": [
       "'Introduction to Machine Learning with Python.\\n\\nThis module provides an introduction to the basic concepts and use of the Python programming language in support of translation. Focus lies on the main concepts that include Natural Language Processing, automation, text analysis and machine learning.\\n'"
      ]
     },
     "execution_count": 14,
     "metadata": {},
     "output_type": "execute_result"
    }
   ],
   "source": [
    "# Source text\n",
    "f = open('python_en.txt', encoding = 'utf-8')\n",
    "st_1 = f.read()\n",
    "f.close()\n",
    "st_1"
   ]
  },
  {
   "cell_type": "code",
   "execution_count": 15,
   "id": "ee31b753",
   "metadata": {},
   "outputs": [
    {
     "data": {
      "text/plain": [
       "'Introduction au machine learning à l’aide de Python.\\n\\nCe module offre une introduction aux concepts de base et à l’utilisation du langage de programmation Python comme aide à la traduction. L’accent est mis sur le traitement du langage naturel (NLP), l’automatisation, l’analyse de texte et le machine learning.\\n'"
      ]
     },
     "execution_count": 15,
     "metadata": {},
     "output_type": "execute_result"
    }
   ],
   "source": [
    "# Source text\n",
    "f = open('python_fr.txt', encoding = 'utf-8')\n",
    "tt_1 = f.read()\n",
    "f.close()\n",
    "tt_1"
   ]
  },
  {
   "cell_type": "markdown",
   "id": "bb6de39e",
   "metadata": {},
   "source": [
    "## Step three: Split the single text string into list of sentences\n",
    "Since most TMs (and CAT-tools) use sentence segmentation, the source and target text need to be split up into sentences. So, each text becomes a list of separate sentences.\n",
    "\n",
    "For this, we use `nltk tokenizer`, which functions with English and French (and many other languages, but English and French are the ones that interest us right now)."
   ]
  },
  {
   "cell_type": "code",
   "execution_count": 16,
   "id": "b6d77857",
   "metadata": {},
   "outputs": [
    {
     "data": {
      "text/plain": [
       "['Introduction to Machine Learning with Python.',\n",
       " 'This module provides an introduction to the basic concepts and use of the Python programming language in support of translation.',\n",
       " 'Focus lies on the main concepts that include Natural Language Processing, automation, text analysis and machine learning.']"
      ]
     },
     "execution_count": 16,
     "metadata": {},
     "output_type": "execute_result"
    }
   ],
   "source": [
    "# Source text\n",
    "from nltk.tokenize import sent_tokenize\n",
    "split_st_1 = sent_tokenize(st_1, language = 'english')\n",
    "split_st_1"
   ]
  },
  {
   "cell_type": "code",
   "execution_count": 17,
   "id": "1cca97c2",
   "metadata": {},
   "outputs": [
    {
     "data": {
      "text/plain": [
       "['Introduction au machine learning à l’aide de Python.',\n",
       " 'Ce module offre une introduction aux concepts de base et à l’utilisation du langage de programmation Python comme aide à la traduction.',\n",
       " 'L’accent est mis sur le traitement du langage naturel (NLP), l’automatisation, l’analyse de texte et le machine learning.']"
      ]
     },
     "execution_count": 17,
     "metadata": {},
     "output_type": "execute_result"
    }
   ],
   "source": [
    "# Target text\n",
    "from nltk.tokenize import sent_tokenize\n",
    "split_tt_1 = sent_tokenize(tt_1, language = 'french')\n",
    "split_tt_1"
   ]
  },
  {
   "cell_type": "markdown",
   "id": "af933044",
   "metadata": {},
   "source": [
    "## Step four: Aligning those lists and exporting the tuples list to a csv-file\n",
    "For this step, we'll need the `csv` module:"
   ]
  },
  {
   "cell_type": "code",
   "execution_count": 18,
   "id": "d720a8c3",
   "metadata": {},
   "outputs": [],
   "source": [
    "import csv"
   ]
  },
  {
   "cell_type": "markdown",
   "id": "3649fd6e",
   "metadata": {},
   "source": [
    "A csv-file consists of rows, often a first header row with the label of each column, followed by the actual content of the file. So, in the first two lines we need to define what each row will contain.\n",
    "- The content of the header row (stored in the variable `header`) simply consists of the language codes of the source and target language.\n",
    "- The content of the next rows (stored in the variable `tm_1`) contains our texts.\n",
    "    - The `zip()`-function aligns the first sentence of the source text with the first sentence of the target text, the second with the second... and so on.\n",
    "    - The `list()`-function ensures that the `tm_1`-variable contains a list of tuples, not a generator (because the `zip()`-function creates a generator).\n",
    "    \n",
    "Once we know what will go into the file, it's time to actually write the file.\n",
    "- We open a new file, which gets a name, the `'w'`-command (meaning that it's meant to write a file) and an encoding (utf-8).\n",
    "- Then, we define a csv-writer (very creatively called `write`).\n",
    "- Lastly, we write the first row (the header) followed by the rest (the actual TM)."
   ]
  },
  {
   "cell_type": "code",
   "execution_count": 19,
   "id": "54465bd4",
   "metadata": {},
   "outputs": [],
   "source": [
    "header = ['EN', 'FR'] # header row\n",
    "tm_1 = list(zip(split_st_1, split_tt_1)) # rest of the file\n",
    "\n",
    "with open('translation-memory_1.csv', 'w', encoding = 'utf-8') as f:\n",
    "    write = csv.writer(f)\n",
    "    \n",
    "    write.writerow(header)\n",
    "    write.writerows(tm_1)"
   ]
  },
  {
   "cell_type": "markdown",
   "id": "aa373dde",
   "metadata": {},
   "source": [
    "## Step five: Admiring our work\n",
    "Using pandas, we can read the newly created csv-file."
   ]
  },
  {
   "cell_type": "code",
   "execution_count": 20,
   "id": "dbbcea9d",
   "metadata": {},
   "outputs": [],
   "source": [
    "import pandas as pd"
   ]
  },
  {
   "cell_type": "code",
   "execution_count": 21,
   "id": "ac2fe189",
   "metadata": {},
   "outputs": [
    {
     "data": {
      "text/html": [
       "<div>\n",
       "<style scoped>\n",
       "    .dataframe tbody tr th:only-of-type {\n",
       "        vertical-align: middle;\n",
       "    }\n",
       "\n",
       "    .dataframe tbody tr th {\n",
       "        vertical-align: top;\n",
       "    }\n",
       "\n",
       "    .dataframe thead th {\n",
       "        text-align: right;\n",
       "    }\n",
       "</style>\n",
       "<table border=\"1\" class=\"dataframe\">\n",
       "  <thead>\n",
       "    <tr style=\"text-align: right;\">\n",
       "      <th></th>\n",
       "      <th>EN</th>\n",
       "      <th>FR</th>\n",
       "    </tr>\n",
       "  </thead>\n",
       "  <tbody>\n",
       "    <tr>\n",
       "      <th>0</th>\n",
       "      <td>Introduction to Machine Learning with Python.</td>\n",
       "      <td>Introduction au machine learning à l’aide de P...</td>\n",
       "    </tr>\n",
       "    <tr>\n",
       "      <th>1</th>\n",
       "      <td>This module provides an introduction to the ba...</td>\n",
       "      <td>Ce module offre une introduction aux concepts ...</td>\n",
       "    </tr>\n",
       "    <tr>\n",
       "      <th>2</th>\n",
       "      <td>Focus lies on the main concepts that include N...</td>\n",
       "      <td>L’accent est mis sur le traitement du langage ...</td>\n",
       "    </tr>\n",
       "  </tbody>\n",
       "</table>\n",
       "</div>"
      ],
      "text/plain": [
       "                                                  EN  \\\n",
       "0      Introduction to Machine Learning with Python.   \n",
       "1  This module provides an introduction to the ba...   \n",
       "2  Focus lies on the main concepts that include N...   \n",
       "\n",
       "                                                  FR  \n",
       "0  Introduction au machine learning à l’aide de P...  \n",
       "1  Ce module offre une introduction aux concepts ...  \n",
       "2  L’accent est mis sur le traitement du langage ...  "
      ]
     },
     "execution_count": 21,
     "metadata": {},
     "output_type": "execute_result"
    }
   ],
   "source": [
    "read_tm = pd.read_csv('translation-memory_1.csv', sep = ',')\n",
    "read_tm.head()"
   ]
  },
  {
   "cell_type": "markdown",
   "id": "dca298fe",
   "metadata": {},
   "source": [
    "(Next step: figuring out how to make pandas display the whole text.)"
   ]
  },
  {
   "cell_type": "markdown",
   "id": "9ddb159f",
   "metadata": {},
   "source": [
    "## Step six: Importing the csv-file into a CAT-tool TM"
   ]
  },
  {
   "cell_type": "markdown",
   "id": "2c456496",
   "metadata": {},
   "source": [
    "(I would need to swtich to Windows to show that.)"
   ]
  }
 ],
 "metadata": {
  "kernelspec": {
   "display_name": "Python 3 (ipykernel)",
   "language": "python",
   "name": "python3"
  },
  "language_info": {
   "codemirror_mode": {
    "name": "ipython",
    "version": 3
   },
   "file_extension": ".py",
   "mimetype": "text/x-python",
   "name": "python",
   "nbconvert_exporter": "python",
   "pygments_lexer": "ipython3",
   "version": "3.9.16"
  }
 },
 "nbformat": 4,
 "nbformat_minor": 5
}
